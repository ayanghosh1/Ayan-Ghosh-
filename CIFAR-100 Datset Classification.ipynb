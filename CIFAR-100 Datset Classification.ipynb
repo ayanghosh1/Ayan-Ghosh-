{
  "nbformat": 4,
  "nbformat_minor": 0,
  "metadata": {
    "colab": {
      "provenance": [],
      "authorship_tag": "ABX9TyPRx51hEqFwW+kZ1Qqy7+S2",
      "include_colab_link": true
    },
    "kernelspec": {
      "name": "python3",
      "display_name": "Python 3"
    },
    "language_info": {
      "name": "python"
    }
  },
  "cells": [
    {
      "cell_type": "markdown",
      "metadata": {
        "id": "view-in-github",
        "colab_type": "text"
      },
      "source": [
        "<a href=\"https://colab.research.google.com/github/ayanghosh1/Ayan-Ghosh-/blob/main/CIFAR-100%20Datset%20Classification.ipynb\" target=\"_parent\"><img src=\"https://colab.research.google.com/assets/colab-badge.svg\" alt=\"Open In Colab\"/></a>"
      ]
    },
    {
      "cell_type": "code",
      "execution_count": 35,
      "metadata": {
        "id": "-udDuc5iWxx0"
      },
      "outputs": [],
      "source": [
        "import tensorflow as tf\n",
        "from tensorflow.keras import datasets, layers, models\n",
        "import matplotlib.pyplot as plt\n",
        "import numpy as np\n",
        "from sklearn.metrics import confusion_matrix, classification_report"
      ]
    },
    {
      "cell_type": "code",
      "source": [
        "(X_train, y_train), (X_test, y_test) = datasets.cifar100.load_data()"
      ],
      "metadata": {
        "id": "kx86V4VtXNAU"
      },
      "execution_count": 36,
      "outputs": []
    },
    {
      "cell_type": "code",
      "source": [
        "print(\"Training set shape:\", X_train.shape)\n",
        "print(\"Test set shape:\", X_test.shape)"
      ],
      "metadata": {
        "colab": {
          "base_uri": "https://localhost:8080/"
        },
        "id": "RFuTFSFkhw2e",
        "outputId": "3ca5edf4-d0ff-4401-8944-711cf38e0ee1"
      },
      "execution_count": 37,
      "outputs": [
        {
          "output_type": "stream",
          "name": "stdout",
          "text": [
            "Training set shape: (50000, 32, 32, 3)\n",
            "Test set shape: (10000, 32, 32, 3)\n"
          ]
        }
      ]
    },
    {
      "cell_type": "code",
      "source": [
        "y_train = y_train.reshape(-1,)\n",
        "y_test = y_test.reshape(-1,)"
      ],
      "metadata": {
        "id": "s1i4Clgwh1d-"
      },
      "execution_count": 38,
      "outputs": []
    },
    {
      "cell_type": "code",
      "source": [
        "y_train[:5]"
      ],
      "metadata": {
        "colab": {
          "base_uri": "https://localhost:8080/"
        },
        "id": "7E2QIWAsiDSI",
        "outputId": "23093bcc-ed84-4884-b00c-72c49b78b05e"
      },
      "execution_count": 29,
      "outputs": [
        {
          "output_type": "execute_result",
          "data": {
            "text/plain": [
              "array([[19],\n",
              "       [29],\n",
              "       [ 0],\n",
              "       [11],\n",
              "       [ 1]])"
            ]
          },
          "metadata": {},
          "execution_count": 29
        }
      ]
    },
    {
      "cell_type": "code",
      "source": [
        "classes = [\"apple\", \"aquarium_fish\", \"baby\", \"bear\", \"beaver\", \"bed\", \"bee\", \"beetle\", \"bicycle\", \"bottle\",\n",
        "           \"bowl\", \"boy\", \"bridge\", \"bus\", \"butterfly\", \"camel\", \"can\", \"castle\", \"caterpillar\", \"cattle\",\n",
        "           \"chair\", \"chimpanzee\", \"clock\", \"cloud\", \"cockroach\", \"couch\", \"crab\", \"crocodile\", \"cup\", \"dinosaur\",\n",
        "           \"dolphin\", \"elephant\", \"flatfish\", \"forest\", \"fox\", \"girl\", \"hamster\", \"house\", \"kangaroo\", \"computer\",\n",
        "           \"lamp\", \"lawn_mower\", \"leopard\", \"lion\", \"lizard\", \"lobster\", \"man\", \"maple_tree\", \"motorcycle\", \"mountain\",\n",
        "           \"mouse\", \"mushroom\", \"oak_tree\", \"orange\", \"orchid\", \"otter\", \"palm_tree\", \"pear\", \"pickup_truck\", \"pine_tree\",\n",
        "           \"plain\", \"plate\", \"poppy\", \"porcupine\", \"possum\", \"rabbit\", \"raccoon\", \"ray\", \"road\", \"rocket\", \"rose\",\n",
        "           \"sea\", \"seal\", \"shark\", \"shrew\", \"skunk\", \"skyscraper\", \"snail\", \"snake\", \"spider\", \"squirrel\", \"streetcar\",\n",
        "           \"sunflower\", \"sweet_pepper\", \"table\", \"tank\", \"telephone\", \"television\", \"tiger\", \"tractor\", \"train\", \"trout\",\n",
        "           \"tulip\", \"turtle\", \"wardrobe\", \"whale\", \"willow_tree\", \"wolf\", \"woman\", \"worm\"]"
      ],
      "metadata": {
        "id": "knJrLVRyiPbY"
      },
      "execution_count": 39,
      "outputs": []
    },
    {
      "cell_type": "code",
      "source": [
        "def plot_sample(X, y, index):\n",
        "    plt.figure(figsize=(15, 2))\n",
        "    plt.imshow(X[index])\n",
        "    plt.xlabel(classes[y[index]])"
      ],
      "metadata": {
        "id": "3zkJUpUFiT83"
      },
      "execution_count": 40,
      "outputs": []
    },
    {
      "cell_type": "code",
      "source": [
        "plot_sample(X_train, y_train, 0)\n",
        "plot_sample(X_train, y_train, 1)"
      ],
      "metadata": {
        "colab": {
          "base_uri": "https://localhost:8080/",
          "height": 457
        },
        "id": "n9k7FLTFiXPc",
        "outputId": "bafba298-5ebc-41a1-895a-3955f5d73f6f"
      },
      "execution_count": 41,
      "outputs": [
        {
          "output_type": "display_data",
          "data": {
            "text/plain": [
              "<Figure size 1500x200 with 1 Axes>"
            ],
            "image/png": "[encoded data removed]"
          },
          "metadata": {}
        },
        {
          "output_type": "display_data",
          "data": {
            "text/plain": [
              "<Figure size 1500x200 with 1 Axes>"
            ],
            "image/png": "[encoded data removed]"
          },
          "metadata": {}
        }
      ]
    },
    {
      "cell_type": "code",
      "source": [
        "X_train = X_train / 255.0\n",
        "X_test = X_test / 255.0"
      ],
      "metadata": {
        "id": "OxseFfqViaFh"
      },
      "execution_count": null,
      "outputs": []
    },
    {
      "cell_type": "code",
      "source": [
        "ann = models.Sequential([\n",
        "    layers.Flatten(input_shape=(32, 32, 3)),\n",
        "    layers.Dense(3000, activation='relu'),\n",
        "    layers.Dense(2000, activation='relu'),\n",
        "    layers.Dense(1000, activation='relu'),\n",
        "    layers.Dense(100, activation='softmax')\n",
        "])"
      ],
      "metadata": {
        "id": "_8T5H5Oaij7S"
      },
      "execution_count": 55,
      "outputs": []
    },
    {
      "cell_type": "code",
      "source": [
        "ann.compile(optimizer=tf.keras.optimizers.SGD(learning_rate=0.01),\n",
        "            loss='sparse_categorical_crossentropy',\n",
        "            metrics=['accuracy'])"
      ],
      "metadata": {
        "id": "u_HdEHPEj2To"
      },
      "execution_count": 56,
      "outputs": []
    },
    {
      "cell_type": "code",
      "source": [
        "ann.fit(X_train, y_train, epochs=10)"
      ],
      "metadata": {
        "colab": {
          "base_uri": "https://localhost:8080/"
        },
        "id": "HMSmIxev3vBj",
        "outputId": "482e22c9-1023-476c-a440-198a7f8d404b"
      },
      "execution_count": 52,
      "outputs": [
        {
          "output_type": "stream",
          "name": "stdout",
          "text": [
            "Epoch 1/10\n",
            "1563/1563 [==============================] - 240s 153ms/step - loss: 4.1120 - accuracy: 0.0805\n",
            "Epoch 2/10\n",
            "1563/1563 [==============================] - 242s 155ms/step - loss: 3.7038 - accuracy: 0.1435\n",
            "Epoch 3/10\n",
            "1563/1563 [==============================] - 235s 150ms/step - loss: 3.5358 - accuracy: 0.1727\n",
            "Epoch 4/10\n",
            "1563/1563 [==============================] - 234s 149ms/step - loss: 3.4156 - accuracy: 0.1962\n",
            "Epoch 5/10\n",
            "1563/1563 [==============================] - 243s 155ms/step - loss: 3.3166 - accuracy: 0.2124\n",
            "Epoch 6/10\n",
            "1563/1563 [==============================] - 227s 145ms/step - loss: 3.2280 - accuracy: 0.2298\n",
            "Epoch 7/10\n",
            "1563/1563 [==============================] - 230s 147ms/step - loss: 3.1486 - accuracy: 0.2418\n",
            "Epoch 8/10\n",
            "1563/1563 [==============================] - 226s 145ms/step - loss: 3.0755 - accuracy: 0.2573\n",
            "Epoch 9/10\n",
            "1563/1563 [==============================] - 227s 145ms/step - loss: 3.0058 - accuracy: 0.2693\n",
            "Epoch 10/10\n",
            "1563/1563 [==============================] - 228s 146ms/step - loss: 2.9374 - accuracy: 0.2829\n"
          ]
        },
        {
          "output_type": "execute_result",
          "data": {
            "text/plain": [
              "<keras.src.callbacks.History at 0x7927e3fd1630>"
            ]
          },
          "metadata": {},
          "execution_count": 52
        }
      ]
    },
    {
      "cell_type": "code",
      "source": [
        "X_train = X_train / 255.0\n",
        "X_test = X_test / 255.0"
      ],
      "metadata": {
        "id": "-3G4X0FJj6Aq"
      },
      "execution_count": null,
      "outputs": []
    },
    {
      "cell_type": "code",
      "source": [
        "y_pred_ann = ann.predict(X_test)\n",
        "y_pred_classes_ann = [np.argmax(element) for element in y_pred_ann]\n",
        "print(\"Classification Report (ANN):\\n\", classification_report(y_test, y_pred_classes_ann))\n"
      ],
      "metadata": {
        "colab": {
          "base_uri": "https://localhost:8080/"
        },
        "id": "CJumo9V1j9Mt",
        "outputId": "9d7fadc4-21e7-4fde-a2d0-aba2086e7f1a"
      },
      "execution_count": 57,
      "outputs": [
        {
          "output_type": "stream",
          "name": "stdout",
          "text": [
            "313/313 [==============================] - 14s 43ms/step\n",
            "Classification Report (ANN):\n",
            "               precision    recall  f1-score   support\n",
            "\n",
            "           0       0.00      0.00      0.00       100\n",
            "           1       0.00      0.00      0.00       100\n",
            "           2       0.00      0.00      0.00       100\n",
            "           3       0.00      0.00      0.00       100\n",
            "           4       0.00      0.00      0.00       100\n",
            "           5       0.01      0.01      0.01       100\n",
            "           6       0.00      0.00      0.00       100\n",
            "           7       0.00      0.00      0.00       100\n",
            "           8       0.00      0.00      0.00       100\n",
            "           9       0.00      0.00      0.00       100\n",
            "          10       0.00      0.00      0.00       100\n",
            "          11       0.00      0.00      0.00       100\n",
            "          12       0.00      0.00      0.00       100\n",
            "          13       0.00      0.00      0.00       100\n",
            "          14       0.00      0.00      0.00       100\n",
            "          15       0.00      0.00      0.00       100\n",
            "          16       0.00      0.00      0.00       100\n",
            "          17       0.00      0.00      0.00       100\n",
            "          18       0.00      0.00      0.00       100\n",
            "          19       0.00      0.00      0.00       100\n",
            "          20       0.00      0.00      0.00       100\n",
            "          21       0.00      0.00      0.00       100\n",
            "          22       0.00      0.00      0.00       100\n",
            "          23       0.00      0.00      0.00       100\n",
            "          24       0.00      0.00      0.00       100\n",
            "          25       0.00      0.00      0.00       100\n",
            "          26       0.00      0.00      0.00       100\n",
            "          27       0.00      0.00      0.00       100\n",
            "          28       0.00      0.00      0.00       100\n",
            "          29       0.00      0.00      0.00       100\n",
            "          30       0.00      0.00      0.00       100\n",
            "          31       0.00      0.00      0.00       100\n",
            "          32       0.00      0.00      0.00       100\n",
            "          33       0.00      0.00      0.00       100\n",
            "          34       0.00      0.00      0.00       100\n",
            "          35       0.01      0.56      0.02       100\n",
            "          36       0.00      0.00      0.00       100\n",
            "          37       0.00      0.00      0.00       100\n",
            "          38       0.00      0.00      0.00       100\n",
            "          39       0.00      0.00      0.00       100\n",
            "          40       0.00      0.00      0.00       100\n",
            "          41       0.00      0.00      0.00       100\n",
            "          42       0.03      0.02      0.02       100\n",
            "          43       0.00      0.00      0.00       100\n",
            "          44       0.01      0.02      0.01       100\n",
            "          45       0.00      0.00      0.00       100\n",
            "          46       0.00      0.00      0.00       100\n",
            "          47       0.00      0.00      0.00       100\n",
            "          48       0.00      0.00      0.00       100\n",
            "          49       0.00      0.00      0.00       100\n",
            "          50       0.00      0.00      0.00       100\n",
            "          51       0.00      0.00      0.00       100\n",
            "          52       0.00      0.00      0.00       100\n",
            "          53       0.00      0.00      0.00       100\n",
            "          54       0.00      0.00      0.00       100\n",
            "          55       0.00      0.00      0.00       100\n",
            "          56       0.00      0.00      0.00       100\n",
            "          57       0.00      0.00      0.00       100\n",
            "          58       0.00      0.00      0.00       100\n",
            "          59       0.00      0.00      0.00       100\n",
            "          60       0.00      0.00      0.00       100\n",
            "          61       0.00      0.00      0.00       100\n",
            "          62       0.00      0.00      0.00       100\n",
            "          63       0.01      0.23      0.02       100\n",
            "          64       0.00      0.00      0.00       100\n",
            "          65       0.00      0.00      0.00       100\n",
            "          66       0.00      0.00      0.00       100\n",
            "          67       0.00      0.00      0.00       100\n",
            "          68       0.00      0.00      0.00       100\n",
            "          69       0.00      0.00      0.00       100\n",
            "          70       0.00      0.00      0.00       100\n",
            "          71       0.00      0.00      0.00       100\n",
            "          72       0.00      0.00      0.00       100\n",
            "          73       0.00      0.00      0.00       100\n",
            "          74       0.00      0.00      0.00       100\n",
            "          75       0.00      0.00      0.00       100\n",
            "          76       0.00      0.00      0.00       100\n",
            "          77       0.00      0.00      0.00       100\n",
            "          78       0.00      0.00      0.00       100\n",
            "          79       0.00      0.00      0.00       100\n",
            "          80       0.00      0.00      0.00       100\n",
            "          81       0.00      0.00      0.00       100\n",
            "          82       0.01      0.02      0.01       100\n",
            "          83       0.00      0.00      0.00       100\n",
            "          84       0.00      0.00      0.00       100\n",
            "          85       0.00      0.00      0.00       100\n",
            "          86       0.00      0.00      0.00       100\n",
            "          87       0.00      0.00      0.00       100\n",
            "          88       0.00      0.00      0.00       100\n",
            "          89       0.00      0.00      0.00       100\n",
            "          90       0.00      0.00      0.00       100\n",
            "          91       0.00      0.00      0.00       100\n",
            "          92       0.00      0.00      0.00       100\n",
            "          93       0.00      0.00      0.00       100\n",
            "          94       0.00      0.00      0.00       100\n",
            "          95       0.00      0.00      0.00       100\n",
            "          96       0.00      0.00      0.00       100\n",
            "          97       0.00      0.00      0.00       100\n",
            "          98       0.00      0.00      0.00       100\n",
            "          99       0.00      0.00      0.00       100\n",
            "\n",
            "    accuracy                           0.01     10000\n",
            "   macro avg       0.00      0.01      0.00     10000\n",
            "weighted avg       0.00      0.01      0.00     10000\n",
            "\n"
          ]
        },
        {
          "output_type": "stream",
          "name": "stderr",
          "text": [
            "/usr/local/lib/python3.10/dist-packages/sklearn/metrics/_classification.py:1344: UndefinedMetricWarning: Precision and F-score are ill-defined and being set to 0.0 in labels with no predicted samples. Use `zero_division` parameter to control this behavior.\n",
            "  _warn_prf(average, modifier, msg_start, len(result))\n",
            "/usr/local/lib/python3.10/dist-packages/sklearn/metrics/_classification.py:1344: UndefinedMetricWarning: Precision and F-score are ill-defined and being set to 0.0 in labels with no predicted samples. Use `zero_division` parameter to control this behavior.\n",
            "  _warn_prf(average, modifier, msg_start, len(result))\n",
            "/usr/local/lib/python3.10/dist-packages/sklearn/metrics/_classification.py:1344: UndefinedMetricWarning: Precision and F-score are ill-defined and being set to 0.0 in labels with no predicted samples. Use `zero_division` parameter to control this behavior.\n",
            "  _warn_prf(average, modifier, msg_start, len(result))\n"
          ]
        }
      ]
    },
    {
      "cell_type": "code",
      "source": [
        "cnn = models.Sequential([\n",
        "    layers.Conv2D(filters=32, kernel_size=(3, 3), activation='relu', input_shape=(32, 32, 3)),\n",
        "    layers.MaxPooling2D((2, 2)),\n",
        "    layers.Conv2D(filters=64, kernel_size=(3, 3), activation='relu'),\n",
        "    layers.MaxPooling2D((2, 2)),\n",
        "    layers.Flatten(),\n",
        "    layers.Dense(64, activation='relu'),\n",
        "    layers.Dense(100, activation='softmax')\n",
        "])"
      ],
      "metadata": {
        "id": "36DRW72gkDwP"
      },
      "execution_count": null,
      "outputs": []
    },
    {
      "cell_type": "code",
      "source": [
        "cnn.compile(optimizer='adam',\n",
        "            loss='sparse_categorical_crossentropy',\n",
        "            metrics=['accuracy'])\n",
        "\n",
        "cnn.fit(X_train, y_train, epochs=20)"
      ],
      "metadata": {
        "colab": {
          "base_uri": "https://localhost:8080/"
        },
        "id": "wAiGulV8kG6n",
        "outputId": "532cea60-8cf2-41b4-80a8-c4eb49c8fb7b"
      },
      "execution_count": 53,
      "outputs": [
        {
          "output_type": "stream",
          "name": "stdout",
          "text": [
            "Epoch 1/20\n",
            "1563/1563 [==============================] - 64s 40ms/step - loss: 2.2786 - accuracy: 0.4041\n",
            "Epoch 2/20\n",
            "1563/1563 [==============================] - 62s 40ms/step - loss: 2.2313 - accuracy: 0.4141\n",
            "Epoch 3/20\n",
            "1563/1563 [==============================] - 63s 40ms/step - loss: 2.1913 - accuracy: 0.4211\n",
            "Epoch 4/20\n",
            "1563/1563 [==============================] - 63s 40ms/step - loss: 2.1502 - accuracy: 0.4304\n",
            "Epoch 5/20\n",
            "1563/1563 [==============================] - 63s 40ms/step - loss: 2.1174 - accuracy: 0.4374\n",
            "Epoch 6/20\n",
            "1563/1563 [==============================] - 63s 40ms/step - loss: 2.0772 - accuracy: 0.4453\n",
            "Epoch 7/20\n",
            "1563/1563 [==============================] - 63s 40ms/step - loss: 2.0465 - accuracy: 0.4527\n",
            "Epoch 8/20\n",
            "1563/1563 [==============================] - 63s 40ms/step - loss: 2.0103 - accuracy: 0.4620\n",
            "Epoch 9/20\n",
            "1563/1563 [==============================] - 63s 40ms/step - loss: 1.9825 - accuracy: 0.4690\n",
            "Epoch 10/20\n",
            "1563/1563 [==============================] - 66s 42ms/step - loss: 1.9520 - accuracy: 0.4740\n",
            "Epoch 11/20\n",
            "1563/1563 [==============================] - 63s 40ms/step - loss: 1.9233 - accuracy: 0.4790\n",
            "Epoch 12/20\n",
            "1563/1563 [==============================] - 62s 40ms/step - loss: 1.9013 - accuracy: 0.4837\n",
            "Epoch 13/20\n",
            "1563/1563 [==============================] - 62s 40ms/step - loss: 1.8715 - accuracy: 0.4901\n",
            "Epoch 14/20\n",
            "1563/1563 [==============================] - 63s 40ms/step - loss: 1.8521 - accuracy: 0.4954\n",
            "Epoch 15/20\n",
            "1563/1563 [==============================] - 63s 40ms/step - loss: 1.8251 - accuracy: 0.5031\n",
            "Epoch 16/20\n",
            "1563/1563 [==============================] - 62s 40ms/step - loss: 1.8032 - accuracy: 0.5052\n",
            "Epoch 17/20\n",
            "1563/1563 [==============================] - 62s 40ms/step - loss: 1.7850 - accuracy: 0.5106\n",
            "Epoch 18/20\n",
            "1563/1563 [==============================] - 63s 41ms/step - loss: 1.7645 - accuracy: 0.5153\n",
            "Epoch 19/20\n",
            "1563/1563 [==============================] - 64s 41ms/step - loss: 1.7394 - accuracy: 0.5217\n",
            "Epoch 20/20\n",
            "1563/1563 [==============================] - 63s 41ms/step - loss: 1.7213 - accuracy: 0.5238\n"
          ]
        },
        {
          "output_type": "execute_result",
          "data": {
            "text/plain": [
              "<keras.src.callbacks.History at 0x7927e3007ca0>"
            ]
          },
          "metadata": {},
          "execution_count": 53
        }
      ]
    },
    {
      "cell_type": "code",
      "source": [
        "cnn.evaluate(X_test, y_test)"
      ],
      "metadata": {
        "id": "B6sMSe0nkJfO"
      },
      "execution_count": null,
      "outputs": []
    },
    {
      "cell_type": "code",
      "source": [
        "y_pred_cnn = cnn.predict(X_test)\n",
        "y_pred_classes_cnn = [np.argmax(element) for element in y_pred_cnn]\n",
        "print(\"Classification Report (CNN):\\n\", classification_report(y_test, y_pred_classes_cnn))"
      ],
      "metadata": {
        "id": "MU8uz4xgkNqc"
      },
      "execution_count": null,
      "outputs": []
    }
  ]
}